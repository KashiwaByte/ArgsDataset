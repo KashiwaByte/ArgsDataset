{
 "cells": [
  {
   "cell_type": "markdown",
   "metadata": {},
   "source": [
    "# 普通模型测试"
   ]
  },
  {
   "cell_type": "code",
   "execution_count": 59,
   "metadata": {},
   "outputs": [
    {
     "data": {
      "text/plain": [
       "'0.189729988'"
      ]
     },
     "execution_count": 59,
     "metadata": {},
     "output_type": "execute_result"
    }
   ],
   "source": [
    "from openai import OpenAI\n",
    "client = OpenAI()\n",
    "\n",
    "response = client.chat.completions.create(\n",
    "  model=\"gpt-3.5-turbo\",\n",
    "  messages=[\n",
    "    {\"role\": \"system\", \"content\": \"请根据以下论述和主题,给出论证质量评分(只需要输出一个范围从0-1的分数,精确到小数点后9位).\"},\n",
    "    {'role': 'user', 'content': \"{'sentence': {'学校不应采用零容忍政策，因为情况通常并不是非黑即白，更为微妙。没有人应因为一次判断错误而被否定。'}, 'topic': {'我们应该在学校实施零容忍政策。'}}\"},\n",
    "    {'role': 'assistant', 'content': \"0.721191932\"},\n",
    "    {\"role\": \"user\", \"content\": \"{'sentence': 多党制会导致混乱, 'topic': 我们应该采用多党制}\"}\n",
    "  ]\n",
    ")\n",
    "# {'messages': [{'role': 'system', 'content': '请根据以下论述和主题,给出论证质量评分(只需要输出一个范围从0-1的分数,精确到小数点后9位).'}, {'role': 'user', 'content': \"{'sentence': {'学校不应采用零容忍政策，因为情况通常并不是非黑即白，更为微妙。没有人应因为一次判断错误而被否定。'}, 'topic': {'我们应该在学校实施零容忍政策。'}}\"}, {'role': 'assistant', 'content': '0.721191932'}]}\n",
    "\n",
    "\n",
    "\n",
    "response.choices[0].message.content"
   ]
  },
  {
   "cell_type": "code",
   "execution_count": 60,
   "metadata": {},
   "outputs": [
    {
     "data": {
      "text/plain": [
       "ChatCompletion(id='chatcmpl-97i5QE2skEIhpDowxF3Gzh3cmRm8b', choices=[Choice(finish_reason='stop', index=0, logprobs=None, message=ChatCompletionMessage(content='0.189729988', role='assistant', function_call=None, tool_calls=None))], created=1711624792, model='gpt-3.5-turbo-0125', object='chat.completion', system_fingerprint='fp_3bc1b5746c', usage=CompletionUsage(completion_tokens=5, prompt_tokens=190, total_tokens=195))"
      ]
     },
     "execution_count": 60,
     "metadata": {},
     "output_type": "execute_result"
    }
   ],
   "source": [
    "response"
   ]
  },
  {
   "cell_type": "code",
   "execution_count": 46,
   "metadata": {},
   "outputs": [
    {
     "data": {
      "text/plain": [
       "ChatCompletion(id='chatcmpl-97hqGrowvG58mWVJk68DQyOOxb9pJ', choices=[Choice(finish_reason='stop', index=0, logprobs=None, message=ChatCompletionMessage(content='0.162112956', role='assistant', function_call=None, tool_calls=None))], created=1711623852, model='gpt-3.5-turbo-0125', object='chat.completion', system_fingerprint='fp_b28b39ffa8', usage=CompletionUsage(completion_tokens=5, prompt_tokens=189, total_tokens=194))"
      ]
     },
     "execution_count": 46,
     "metadata": {},
     "output_type": "execute_result"
    }
   ],
   "source": [
    "\n",
    "from openai import OpenAI\n",
    "client = OpenAI()\n",
    "\n",
    "response = client.chat.completions.create(\n",
    "  model=\"gpt-3.5-turbo\",\n",
    "  messages=[\n",
    "    {\"role\": \"system\", \"content\": \"请根据以下论述和主题,给出论证质量评分(只需要输出一个范围从0-1的分数,精确到小数点后9位).\"},\n",
    "    {\"role\": \"user\", \"content\": \"{'sentence': '学校不应采用零容忍政策，因为情况通常并不是非黑即白，更为微妙。没有人应因为一次判断错误而被否定。', 'topic': '我们应该在学校实施零容忍政策。'}\"},\n",
    "    {\"role\": \"assistant\", \"content\": '0.721191932'},\n",
    "    {\"role\": \"user\", \"content\": \"{'sentence': 多党制质量很差, 'topic': 我们应该采用多党制}\"}\n",
    "  ]\n",
    ")\n",
    "response"
   ]
  },
  {
   "cell_type": "code",
   "execution_count": 47,
   "metadata": {},
   "outputs": [
    {
     "data": {
      "text/plain": [
       "'0.162112956'"
      ]
     },
     "execution_count": 47,
     "metadata": {},
     "output_type": "execute_result"
    }
   ],
   "source": [
    "response.choices[0].message.content"
   ]
  },
  {
   "cell_type": "markdown",
   "metadata": {},
   "source": [
    "# 微调模型测试"
   ]
  },
  {
   "cell_type": "code",
   "execution_count": 4,
   "metadata": {},
   "outputs": [
    {
     "name": "stdout",
     "output_type": "stream",
     "text": [
      "0.837885724\n",
      "ChatCompletion(id='chatcmpl-97kxAVZ8XHkMVUpmOTvzZQsoUmx2g', choices=[Choice(finish_reason='stop', index=0, logprobs=None, message=ChatCompletionMessage(content='0.837885724', role='assistant', function_call=None, tool_calls=None))], created=1711635812, model='ft:gpt-3.5-turbo-0125:personal:arg-quality-0328:97kBFgug', object='chat.completion', system_fingerprint='fp_30c5ea69e1', usage=CompletionUsage(completion_tokens=5, prompt_tokens=92, total_tokens=97))\n"
     ]
    }
   ],
   "source": [
    "from openai import OpenAI\n",
    "client = OpenAI()\n",
    "\n",
    "response = client.chat.completions.create(\n",
    "  model=\"ft:gpt-3.5-turbo-0125:personal:arg-quality-0328:97kBFgug\",\n",
    "  messages=[\n",
    "    {\"role\": \"system\", \"content\": \"请根据以下论述和主题,给出论证质量评分(只需要输出一个范围从0-1的分数,精确到小数点后9位).\"},\n",
    "    {\"role\": \"user\", \"content\": \"{'sentence': 多党制会导致混乱, 'topic': 我们应该采用多党制}\"}\n",
    "  ]\n",
    ")\n",
    "\n",
    "\n",
    "\n",
    "print(response.choices[0].message.content)\n",
    "print(response)\n"
   ]
  },
  {
   "cell_type": "code",
   "execution_count": 5,
   "metadata": {},
   "outputs": [
    {
     "name": "stdout",
     "output_type": "stream",
     "text": [
      "0.90163479\n",
      "ChatCompletion(id='chatcmpl-97kxRDATIzFSpdtwQyDCKsTGahl60', choices=[Choice(finish_reason='stop', index=0, logprobs=None, message=ChatCompletionMessage(content='0.90163479', role='assistant', function_call=None, tool_calls=None))], created=1711635829, model='ft:gpt-3.5-turbo-0125:personal:arg-quality-0328:97kBFgug', object='chat.completion', system_fingerprint='fp_30c5ea69e1', usage=CompletionUsage(completion_tokens=5, prompt_tokens=109, total_tokens=114))\n"
     ]
    }
   ],
   "source": [
    "from openai import OpenAI\n",
    "client = OpenAI()\n",
    "\n",
    "response = client.chat.completions.create(\n",
    "  model=\"ft:gpt-3.5-turbo-0125:personal:arg-quality-0328:97kBFgug\",\n",
    "  messages=[\n",
    "    {\"role\": \"system\", \"content\": \"请根据以下论述和主题,给出论证质量评分(只需要输出一个范围从0-1的分数,精确到小数点后9位).\"},\n",
    "    {\"role\": \"user\", \"content\": \"{'sentence': 多党制将会过于混乱，很难得到广大公众的共识。, 'topic': 我们应该采用多党制}\"}\n",
    "  ]\n",
    ")\n",
    "\n",
    "\n",
    "\n",
    "print(response.choices[0].message.content)\n",
    "print(response)"
   ]
  },
  {
   "cell_type": "code",
   "execution_count": 6,
   "metadata": {},
   "outputs": [
    {
     "name": "stdout",
     "output_type": "stream",
     "text": [
      "0.0\n",
      "ChatCompletion(id='chatcmpl-97kxmsVnDocxfEcOX7QGNBilKUIxQ', choices=[Choice(finish_reason='stop', index=0, logprobs=None, message=ChatCompletionMessage(content='0.0', role='assistant', function_call=None, tool_calls=None))], created=1711635850, model='ft:gpt-3.5-turbo-0125:personal:arg-quality-0328:97kBFgug', object='chat.completion', system_fingerprint='fp_30c5ea69e1', usage=CompletionUsage(completion_tokens=3, prompt_tokens=88, total_tokens=91))\n"
     ]
    }
   ],
   "source": [
    "from openai import OpenAI\n",
    "client = OpenAI()\n",
    "\n",
    "response = client.chat.completions.create(\n",
    "  model=\"ft:gpt-3.5-turbo-0125:personal:arg-quality-0328:97kBFgug\",\n",
    "  messages=[\n",
    "    {\"role\": \"system\", \"content\": \"请根据以下论述和主题,给出论证质量评分(只需要输出一个范围从0-1的分数,精确到小数点后9位).\"},\n",
    "    {\"role\": \"user\", \"content\": \"{'sentence': 啊吧啊吧。, 'topic': 我们应该采用多党制}\"}\n",
    "  ]\n",
    ")\n",
    "\n",
    "\n",
    "\n",
    "print(response.choices[0].message.content)\n",
    "print(response)"
   ]
  },
  {
   "cell_type": "code",
   "execution_count": 7,
   "metadata": {},
   "outputs": [
    {
     "name": "stdout",
     "output_type": "stream",
     "text": [
      "0.964554715\n",
      "ChatCompletion(id='chatcmpl-97kyTLn4zAlwamyu7FKwqUBj1f49B', choices=[Choice(finish_reason='stop', index=0, logprobs=None, message=ChatCompletionMessage(content='0.964554715', role='assistant', function_call=None, tool_calls=None))], created=1711635893, model='ft:gpt-3.5-turbo-0125:personal:arg-quality-0328:97kBFgug', object='chat.completion', system_fingerprint='fp_30c5ea69e1', usage=CompletionUsage(completion_tokens=5, prompt_tokens=116, total_tokens=121))\n"
     ]
    }
   ],
   "source": [
    "from openai import OpenAI\n",
    "client = OpenAI()\n",
    "\n",
    "response = client.chat.completions.create(\n",
    "  model=\"ft:gpt-3.5-turbo-0125:personal:arg-quality-0328:97kBFgug\",\n",
    "  messages=[\n",
    "    {\"role\": \"system\", \"content\": \"请根据以下论述和主题,给出论证质量评分(只需要输出一个范围从0-1的分数,精确到小数点后9位).\"},\n",
    "    {\"role\": \"user\", \"content\": \"{'sentence': 多党制能够促进民主杜绝独裁，总而增强国民总体幸福感, 'topic': 我们应该采用多党制}\"}\n",
    "  ]\n",
    ")\n",
    "\n",
    "\n",
    "\n",
    "print(response.choices[0].message.content)\n",
    "print(response)"
   ]
  }
 ],
 "metadata": {
  "kernelspec": {
   "display_name": "DoT",
   "language": "python",
   "name": "python3"
  },
  "language_info": {
   "codemirror_mode": {
    "name": "ipython",
    "version": 3
   },
   "file_extension": ".py",
   "mimetype": "text/x-python",
   "name": "python",
   "nbconvert_exporter": "python",
   "pygments_lexer": "ipython3",
   "version": "3.10.0"
  }
 },
 "nbformat": 4,
 "nbformat_minor": 2
}
