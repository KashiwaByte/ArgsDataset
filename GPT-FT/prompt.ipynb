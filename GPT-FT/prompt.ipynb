{
 "cells": [
  {
   "cell_type": "code",
   "execution_count": 58,
   "metadata": {},
   "outputs": [
    {
     "data": {
      "text/plain": [
       "'0.025'"
      ]
     },
     "execution_count": 58,
     "metadata": {},
     "output_type": "execute_result"
    }
   ],
   "source": [
    "from openai import OpenAI\n",
    "client = OpenAI()\n",
    "\n",
    "response = client.chat.completions.create(\n",
    "  model=\"gpt-3.5-turbo\",\n",
    "  messages=[\n",
    "    {\"role\": \"system\", \"content\": \"请根据以下论述和主题,给出论证质量评分(只需要输出一个范围从0-1的分数,精确到小数点后9位).\"},\n",
    "    {'role': 'user', 'content': \"{'sentence': {'学校不应采用零容忍政策，因为情况通常并不是非黑即白，更为微妙。没有人应因为一次判断错误而被否定。'}, 'topic': {'我们应该在学校实施零容忍政策。'}}\"},\n",
    "    {'role': 'assistant', 'content': \"0.721191932\"},\n",
    "    {\"role\": \"user\", \"content\": \"{'sentence': 多党制会导致混乱, 'topic': 我们应该采用多党制}\"}\n",
    "  ]\n",
    ")\n",
    "# {'messages': [{'role': 'system', 'content': '请根据以下论述和主题,给出论证质量评分(只需要输出一个范围从0-1的分数,精确到小数点后9位).'}, {'role': 'user', 'content': \"{'sentence': {'学校不应采用零容忍政策，因为情况通常并不是非黑即白，更为微妙。没有人应因为一次判断错误而被否定。'}, 'topic': {'我们应该在学校实施零容忍政策。'}}\"}, {'role': 'assistant', 'content': '0.721191932'}]}\n",
    "\n",
    "\n",
    "\n",
    "response.choices[0].message.content"
   ]
  },
  {
   "cell_type": "code",
   "execution_count": 54,
   "metadata": {},
   "outputs": [
    {
     "data": {
      "text/plain": [
       "ChatCompletion(id='chatcmpl-97i0GsYpcjmNh2VXzKgdrRDASdeVG', choices=[Choice(finish_reason='stop', index=0, logprobs=None, message=ChatCompletionMessage(content='0', role='assistant', function_call=None, tool_calls=None))], created=1711624472, model='gpt-3.5-turbo-0125', object='chat.completion', system_fingerprint='fp_3bc1b5746c', usage=CompletionUsage(completion_tokens=1, prompt_tokens=189, total_tokens=190))"
      ]
     },
     "execution_count": 54,
     "metadata": {},
     "output_type": "execute_result"
    }
   ],
   "source": [
    "response"
   ]
  },
  {
   "cell_type": "code",
   "execution_count": 46,
   "metadata": {},
   "outputs": [
    {
     "data": {
      "text/plain": [
       "ChatCompletion(id='chatcmpl-97hqGrowvG58mWVJk68DQyOOxb9pJ', choices=[Choice(finish_reason='stop', index=0, logprobs=None, message=ChatCompletionMessage(content='0.162112956', role='assistant', function_call=None, tool_calls=None))], created=1711623852, model='gpt-3.5-turbo-0125', object='chat.completion', system_fingerprint='fp_b28b39ffa8', usage=CompletionUsage(completion_tokens=5, prompt_tokens=189, total_tokens=194))"
      ]
     },
     "execution_count": 46,
     "metadata": {},
     "output_type": "execute_result"
    }
   ],
   "source": [
    "\n",
    "from openai import OpenAI\n",
    "client = OpenAI()\n",
    "\n",
    "response = client.chat.completions.create(\n",
    "  model=\"gpt-3.5-turbo\",\n",
    "  messages=[\n",
    "    {\"role\": \"system\", \"content\": \"请根据以下论述和主题,给出论证质量评分(只需要输出一个范围从0-1的分数,精确到小数点后9位).\"},\n",
    "    {\"role\": \"user\", \"content\": \"{'sentence': '学校不应采用零容忍政策，因为情况通常并不是非黑即白，更为微妙。没有人应因为一次判断错误而被否定。', 'topic': '我们应该在学校实施零容忍政策。'}\"},\n",
    "    {\"role\": \"assistant\", \"content\": '0.721191932'},\n",
    "    {\"role\": \"user\", \"content\": \"{'sentence': 多党制质量很差, 'topic': 我们应该采用多党制}\"}\n",
    "  ]\n",
    ")\n",
    "response"
   ]
  },
  {
   "cell_type": "code",
   "execution_count": 47,
   "metadata": {},
   "outputs": [
    {
     "data": {
      "text/plain": [
       "'0.162112956'"
      ]
     },
     "execution_count": 47,
     "metadata": {},
     "output_type": "execute_result"
    }
   ],
   "source": [
    "response.choices[0].message.content"
   ]
  }
 ],
 "metadata": {
  "kernelspec": {
   "display_name": "DoT",
   "language": "python",
   "name": "python3"
  },
  "language_info": {
   "codemirror_mode": {
    "name": "ipython",
    "version": 3
   },
   "file_extension": ".py",
   "mimetype": "text/x-python",
   "name": "python",
   "nbconvert_exporter": "python",
   "pygments_lexer": "ipython3",
   "version": "3.10.0"
  }
 },
 "nbformat": 4,
 "nbformat_minor": 2
}
